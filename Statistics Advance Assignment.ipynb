{
 "cells": [
  {
   "cell_type": "markdown",
   "id": "d11e8de2-4503-4f10-8cb0-18d574181cc0",
   "metadata": {},
   "source": [
    "### Q1. What is the Probability Density Function?\n",
    "\n",
    "The **Probability Density Function (PDF)** is a function that describes the likelihood of a continuous random variable to take on a particular value. The PDF must satisfy the following conditions:\n",
    "- The function must be non-negative for all possible values.\n",
    "- The area under the curve of the PDF over the entire range of possible values must equal 1.\n",
    "\n",
    "For a continuous random variable \\( X \\), the PDF is denoted as \\( f(x) \\), and the probability that \\( X \\) falls within a certain range is given by the integral of \\( f(x) \\) over that range."
   ]
  },
  {
   "cell_type": "markdown",
   "id": "0da3e2a8-5311-4ee1-8ae8-e9fe7861d19b",
   "metadata": {},
   "source": []
  },
  {
   "cell_type": "markdown",
   "id": "70e913e0-3cf3-4826-9fa7-b8cf80943f90",
   "metadata": {},
   "source": [
    "### Q2. What are the types of Probability Distribution?\n",
    "\n",
    "Probability distributions can be classified into two main types:\n",
    "\n",
    "1. **Discrete Probability Distributions**:\n",
    "   - **Definition**: Used for discrete random variables which can take on a countable number of values.\n",
    "   - **Examples**: Binomial distribution, Poisson distribution, Geometric distribution.\n",
    "\n",
    "2. **Continuous Probability Distributions**:\n",
    "   - **Definition**: Used for continuous random variables which can take on an infinite number of values within a range.\n",
    "   - **Examples**: Normal distribution, Exponential distribution, Uniform distribution."
   ]
  },
  {
   "cell_type": "markdown",
   "id": "a819f56b-9174-47b1-ab45-4977c9c61c38",
   "metadata": {},
   "source": []
  },
  {
   "cell_type": "markdown",
   "id": "774f571d-9044-4783-99e8-0db592fec173",
   "metadata": {},
   "source": [
    "### Q3. Write a Python function to calculate the probability density function of a normal distribution with given mean and standard deviation at a given point.\n",
    "\n",
    "```python\n",
    "import math\n",
    "\n",
    "def normal_pdf(x, mean, std_dev):\n",
    "    \"\"\"Calculate the Probability Density Function of a normal distribution.\"\"\"\n",
    "    return (1 / (std_dev * math.sqrt(2 * math.pi))) * math.exp(-0.5 * ((x - mean) / std_dev) ** 2)\n",
    "\n",
    "# Example usage\n",
    "mean = 0\n",
    "std_dev = 1\n",
    "x = 1\n",
    "print(normal_pdf(x, mean, std_dev))"
   ]
  },
  {
   "cell_type": "markdown",
   "id": "5a07eedd-299e-4341-8a43-30c6c29c70c6",
   "metadata": {},
   "source": []
  },
  {
   "cell_type": "markdown",
   "id": "ba48ad08-7e91-44d4-bd1d-f2eaa95d7b02",
   "metadata": {},
   "source": [
    "### Q4. What are the properties of Binomial distribution? Give two examples of events where binomial distribution can be applied.\n",
    "\n",
    "**Properties of Binomial Distribution**:\n",
    "1. **Fixed Number of Trials**: The experiment consists of a fixed number of trials, denoted by \\(n\\).\n",
    "2. **Two Possible Outcomes**: Each trial results in one of two possible outcomes: success or failure.\n",
    "3. **Constant Probability of Success**: The probability of success, denoted by \\(p\\), is constant for each trial.\n",
    "4. **Independence**: The trials are independent, meaning the outcome of one trial does not affect the outcome of another.\n",
    "5. **Discrete Distribution**: The binomial distribution is discrete and is used to model the number of successes in a fixed number of trials.\n",
    "\n",
    "**Examples of Binomial Distribution**:\n",
    "1. **Flipping a Coin**: The number of heads obtained in a fixed number of coin flips.\n",
    "2. **Quality Control**: The number of defective items in a batch of manufactured goods where each item has a constant probability of being defective."
   ]
  },
  {
   "cell_type": "markdown",
   "id": "80ca6bbb-12aa-4abc-99d0-a1745b9e2145",
   "metadata": {},
   "source": []
  },
  {
   "cell_type": "markdown",
   "id": "759afe7d-ceab-4041-b1ba-607203cfb514",
   "metadata": {},
   "source": [
    "### Q5. Generate a random sample of size 1000 from a binomial distribution with probability of success 0.4 and plot a histogram of the results using matplotlib.\n",
    "\n",
    "```python\n",
    "import numpy as np\n",
    "import matplotlib.pyplot as plt\n",
    "\n",
    "# Parameters\n",
    "n = 1000  # Sample size\n",
    "p = 0.4   # Probability of success\n",
    "\n",
    "# Generate random sample\n",
    "sample = np.random.binomial(n=1, p=p, size=1000)\n",
    "\n",
    "# Plot histogram\n",
    "plt.hist(sample, bins=2, edgecolor='black')\n",
    "plt.title('Histogram of Binomial Distribution Sample')\n",
    "plt.xlabel('Outcome')\n",
    "plt.ylabel('Frequency')\n",
    "plt.show()"
   ]
  },
  {
   "cell_type": "markdown",
   "id": "17a03098-d9fa-4d29-a6e7-ae6ef2f839b3",
   "metadata": {},
   "source": []
  },
  {
   "cell_type": "markdown",
   "id": "5627caa2-d424-4e07-826a-c2c0d66f6ce9",
   "metadata": {},
   "source": [
    "### Q6. Write a Python function to calculate the cumulative distribution function of a Poisson distribution with a given mean at a given point.\n",
    "\n",
    "You can use the `scipy.stats` library in Python to calculate the cumulative distribution function (CDF) of a Poisson distribution. Here’s a function that does this:\n",
    "\n",
    "```python\n",
    "from scipy.stats import poisson\n",
    "\n",
    "def poisson_cdf(mean, x):\n",
    "    \"\"\"\n",
    "    Calculate the cumulative distribution function of a Poisson distribution.\n",
    "    \n",
    "    Parameters:\n",
    "    mean (float): The mean (lambda) of the Poisson distribution.\n",
    "    x (int): The point at which to evaluate the CDF.\n",
    "    \n",
    "    Returns:\n",
    "    float: The CDF value at the given point.\n",
    "    \"\"\"\n",
    "    return poisson.cdf(x, mean)\n",
    "\n",
    "# Example usage:\n",
    "mean = 5\n",
    "x = 4\n",
    "print(poisson_cdf(mean, x))  # Output the CDF value at x\n"
   ]
  },
  {
   "cell_type": "markdown",
   "id": "7a4a3e07-1773-49c3-95d2-64cf2e0d6be2",
   "metadata": {},
   "source": []
  },
  {
   "cell_type": "markdown",
   "id": "d1289a8a-ac7b-4726-9227-49fa3b49f432",
   "metadata": {},
   "source": [
    "### Q7. How Binomial distribution different from Poisson distribution?\n",
    "\n",
    "**Binomial Distribution**:\n",
    "- **Definition**: The Binomial distribution describes the number of successes in a fixed number of independent Bernoulli trials, each with the same probability of success.\n",
    "- **Parameters**: Two parameters - \\( n \\) (number of trials) and \\( p \\) (probability of success).\n",
    "- **Use Case**: Used when the number of trials is fixed and each trial has the same probability of success.\n",
    "- **Example**: The number of heads in 10 coin tosses.\n",
    "\n",
    "**Poisson Distribution**:\n",
    "- **Definition**: The Poisson distribution describes the number of events occurring within a fixed interval of time or space, given the average rate of occurrence.\n",
    "- **Parameters**: One parameter - \\( \\lambda \\) (average rate of occurrence).\n",
    "- **Use Case**: Used for modeling the number of occurrences of an event in a continuous interval (time, space) where the events are rare or infrequent.\n",
    "- **Example**: The number of customer arrivals at a store in an hour.\n",
    "\n",
    "**Key Differences**:\n",
    "- The Binomial distribution is discrete and defined by a fixed number of trials, while the Poisson distribution is used for modeling the count of events in a fixed interval with a known average rate.\n",
    "- The Binomial distribution requires the probability of success \\( p \\) and the number of trials \\( n \\), while the Poisson distribution requires only the mean rate \\( \\lambda \\)."
   ]
  },
  {
   "cell_type": "markdown",
   "id": "fb8825bf-1132-4d6e-b651-f612e483f32d",
   "metadata": {},
   "source": []
  },
  {
   "cell_type": "markdown",
   "id": "a30df4be-308d-4f55-b3a2-56a2549a440a",
   "metadata": {},
   "source": [
    "### Q8. Generate a random sample of size 1000 from a Poisson distribution with mean 5 and calculate the sample mean and variance.\n",
    "\n",
    "Here’s how you can do it in Python:\n",
    "\n",
    "```python\n",
    "import numpy as np\n",
    "\n",
    "# Generate random sample\n",
    "sample_size = 1000\n",
    "mean_lambda = 5\n",
    "poisson_sample = np.random.poisson(mean_lambda, sample_size)\n",
    "\n",
    "# Calculate sample mean and variance\n",
    "sample_mean = np.mean(poisson_sample)\n",
    "sample_variance = np.var(poisson_sample)\n",
    "\n",
    "sample_mean, sample_variance"
   ]
  },
  {
   "cell_type": "markdown",
   "id": "0f05aea3-929d-446f-9a66-7bebaa092f75",
   "metadata": {},
   "source": []
  },
  {
   "cell_type": "markdown",
   "id": "7ff57223-cedb-49df-939d-bdd8e25d64c7",
   "metadata": {},
   "source": [
    "### Q9. How mean and variance are related in Binomial distribution and Poisson distribution?\n",
    "\n",
    "**Binomial Distribution**:\n",
    "- **Mean** (\\(\\mu\\)): The mean of a Binomial distribution is given by:\n",
    "  \\[\n",
    "  \\mu = n \\times p\n",
    "  \\]\n",
    "  where \\(n\\) is the number of trials and \\(p\\) is the probability of success in each trial.\n",
    "\n",
    "- **Variance** (\\(\\sigma^2\\)): The variance of a Binomial distribution is given by:\n",
    "  \\[\n",
    "  \\sigma^2 = n \\times p \\times (1 - p)\n",
    "  \\]\n",
    "\n",
    "**Relationship**:\n",
    "- In the Binomial distribution, the variance is dependent on both the probability of success (\\(p\\)) and the probability of failure (\\(1 - p\\)), in addition to the number of trials (\\(n\\)).\n",
    "\n",
    "**Poisson Distribution**:\n",
    "- **Mean** (\\(\\lambda\\)): The mean of a Poisson distribution is given by:\n",
    "  \\[\n",
    "  \\mu = \\lambda\n",
    "  \\]\n",
    "  where \\(\\lambda\\) is the average rate at which events occur in a fixed interval of time or space.\n",
    "\n",
    "- **Variance** (\\(\\sigma^2\\)): The variance of a Poisson distribution is also given by:\n",
    "  \\[\n",
    "  \\sigma^2 = \\lambda\n",
    "  \\]\n",
    "\n",
    "**Relationship**:\n",
    "- In the Poisson distribution, the mean and variance are equal, both being \\(\\lambda\\). This property indicates that the distribution has a constant rate of occurrence and is useful for modeling the number of events in fixed intervals."
   ]
  },
  {
   "cell_type": "markdown",
   "id": "d2a289dd-1aa1-4afd-a04a-dc2c72c8c266",
   "metadata": {},
   "source": []
  },
  {
   "cell_type": "markdown",
   "id": "f8ea461e-50cd-4a36-a357-4592b131d5d3",
   "metadata": {},
   "source": [
    "### Q10. In normal distribution with respect to mean position, where does the least frequent data appear?\n",
    "\n",
    "In a normal distribution:\n",
    "- The data is symmetrically distributed around the mean.\n",
    "- The **least frequent data** appears in the **tails** of the distribution, farthest from the mean. \n",
    "\n",
    "**Explanation**:\n",
    "- The normal distribution has a bell-shaped curve where the frequency of data points decreases as you move away from the mean towards the extremes (tails).\n",
    "- The mean represents the peak of the distribution, where the frequency is highest, while the least frequent data points are found at the ends of the distribution curve, where the curve tapers off.\n",
    "\n",
    "**Summary**:\n",
    "- **Mean**: Center of the distribution.\n",
    "- **Least Frequent Data**: Appears in the tails of the distribution, farthest from the mean."
   ]
  },
  {
   "cell_type": "markdown",
   "id": "2f20982f-14b1-42c5-ab50-91a48adc3def",
   "metadata": {},
   "source": []
  }
 ],
 "metadata": {
  "kernelspec": {
   "display_name": "Python 3 (ipykernel)",
   "language": "python",
   "name": "python3"
  },
  "language_info": {
   "codemirror_mode": {
    "name": "ipython",
    "version": 3
   },
   "file_extension": ".py",
   "mimetype": "text/x-python",
   "name": "python",
   "nbconvert_exporter": "python",
   "pygments_lexer": "ipython3",
   "version": "3.12.5"
  }
 },
 "nbformat": 4,
 "nbformat_minor": 5
}
